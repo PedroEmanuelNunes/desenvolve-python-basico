{
 "cells": [
  {
   "cell_type": "markdown",
   "metadata": {},
   "source": [
    "Q1.\n",
    "Selecione todos os itens a seguir que contém nomes válidos de variáveis. Lembre-se que alguns nomes com estrutura válida são palavras reservadas da linguagem e portanto não podem nomear variáveis.\n",
    "\n",
    "a) nome_completo \n",
    "b) quantidade@produtos\t\n",
    "c) idade\t\n",
    "d) soma idades \n",
    "e) MediaNotas\n",
    "f) _tipo\n",
    "g) 2total\n",
    "h) lambda"
   ]
  },
  {
   "cell_type": "code",
   "execution_count": 12,
   "metadata": {},
   "outputs": [
    {
     "name": "stdout",
     "output_type": "stream",
     "text": [
      "a c e f\n"
     ]
    }
   ],
   "source": [
    "print(\"a c e f\")"
   ]
  },
  {
   "cell_type": "markdown",
   "metadata": {},
   "source": [
    "Q2.\n",
    "Dados os scripts a seguir, faça:\n",
    "\n",
    "Para os scripts corretos escreva o resultado impresso ao final da execução\n",
    "Para os incorretos descreva todos os erros identificados apontando a linha onde cada erro acontece."
   ]
  },
  {
   "cell_type": "code",
   "execution_count": 1,
   "metadata": {},
   "outputs": [
    {
     "name": "stdout",
     "output_type": "stream",
     "text": [
      "7\n"
     ]
    }
   ],
   "source": [
    "x = 10\n",
    "y = x + 2\n",
    "print(y - 5)"
   ]
  },
  {
   "cell_type": "code",
   "execution_count": 2,
   "metadata": {},
   "outputs": [
    {
     "ename": "NameError",
     "evalue": "name 'n1' is not defined",
     "output_type": "error",
     "traceback": [
      "\u001b[1;31m---------------------------------------------------------------------------\u001b[0m",
      "\u001b[1;31mNameError\u001b[0m                                 Traceback (most recent call last)",
      "\u001b[1;32mc:\\Users\\Administrador\\OneDrive\\Exercícios do PD\\Python\\Modulo 2\\modulo2\\2.1-Variáveis-Exercícios.ipynb Célula 5\u001b[0m line \u001b[0;36m1\n\u001b[1;32m----> <a href='vscode-notebook-cell:/c%3A/Users/Administrador/OneDrive/Exerc%C3%ADcios%20do%20PD/Python/Modulo%202/modulo2/2.1-Vari%C3%A1veis-Exerc%C3%ADcios.ipynb#W6sZmlsZQ%3D%3D?line=0'>1</a>\u001b[0m soma \u001b[39m=\u001b[39m n1 \u001b[39m+\u001b[39m n2\n\u001b[0;32m      <a href='vscode-notebook-cell:/c%3A/Users/Administrador/OneDrive/Exerc%C3%ADcios%20do%20PD/Python/Modulo%202/modulo2/2.1-Vari%C3%A1veis-Exerc%C3%ADcios.ipynb#W6sZmlsZQ%3D%3D?line=1'>2</a>\u001b[0m \u001b[39mprint\u001b[39m(soma)\n",
      "\u001b[1;31mNameError\u001b[0m: name 'n1' is not defined"
     ]
    }
   ],
   "source": [
    "soma = n1 + n2\n",
    "print(soma)"
   ]
  },
  {
   "cell_type": "code",
   "execution_count": 3,
   "metadata": {},
   "outputs": [
    {
     "name": "stdout",
     "output_type": "stream",
     "text": [
      "11\n"
     ]
    }
   ],
   "source": [
    "a = 10\n",
    "a = a + 1\n",
    "print(a)"
   ]
  },
  {
   "cell_type": "code",
   "execution_count": 4,
   "metadata": {},
   "outputs": [
    {
     "ename": "SyntaxError",
     "evalue": "invalid syntax (2905848147.py, line 1)",
     "output_type": "error",
     "traceback": [
      "\u001b[1;36m  Cell \u001b[1;32mIn[4], line 1\u001b[1;36m\u001b[0m\n\u001b[1;33m    saldo da conta = 1500\u001b[0m\n\u001b[1;37m          ^\u001b[0m\n\u001b[1;31mSyntaxError\u001b[0m\u001b[1;31m:\u001b[0m invalid syntax\n"
     ]
    }
   ],
   "source": [
    "saldo da conta = 1500\n",
    "0.1 = juros\n",
    "print(saldo da conta * juros)"
   ]
  },
  {
   "cell_type": "markdown",
   "metadata": {},
   "source": [
    "Q3.\n",
    "Declare três variáveis, num1, num2 e num3, com valores inteiros numéricos de sua escolha. Calcule e imprima a média desses três números. Utilize a fórmula: (num1 + num2 + num3) / 3."
   ]
  },
  {
   "cell_type": "code",
   "execution_count": 10,
   "metadata": {},
   "outputs": [
    {
     "data": {
      "text/plain": [
       "20.0"
      ]
     },
     "execution_count": 10,
     "metadata": {},
     "output_type": "execute_result"
    }
   ],
   "source": [
    "num1 = 10\n",
    "num2 = 20\n",
    "num3 = 30\n",
    "(num1 + num2 + num3) / 3"
   ]
  },
  {
   "cell_type": "markdown",
   "metadata": {},
   "source": [
    "Q4.\n",
    "Escreva um script python que:\n",
    "\n",
    "Armazene em uma variável uma velocidade de 90 km/h\n",
    "Calcule e armazene o equivalente em m/s\n",
    "Divida o valor original por 3.6 para obter o resultado em m/s. Em python a sintaxe da divisão e atribuição é c = a / b\n",
    "Imprima na tela a velocidade o resultado m/s"
   ]
  },
  {
   "cell_type": "code",
   "execution_count": 9,
   "metadata": {},
   "outputs": [
    {
     "ename": "TypeError",
     "evalue": "unsupported operand type(s) for /: 'str' and 'float'",
     "output_type": "error",
     "traceback": [
      "\u001b[1;31m---------------------------------------------------------------------------\u001b[0m",
      "\u001b[1;31mTypeError\u001b[0m                                 Traceback (most recent call last)",
      "\u001b[1;32mc:\\Users\\Administrador\\OneDrive\\Exercícios do PD\\Python\\Modulo 2\\modulo2\\2.1-Variáveis-Exercícios.ipynb Célula 11\u001b[0m line \u001b[0;36m2\n\u001b[0;32m      <a href='vscode-notebook-cell:/c%3A/Users/Administrador/OneDrive/Exerc%C3%ADcios%20do%20PD/Python/Modulo%202/modulo2/2.1-Vari%C3%A1veis-Exerc%C3%ADcios.ipynb#X15sZmlsZQ%3D%3D?line=0'>1</a>\u001b[0m km_por_hora \u001b[39m=\u001b[39m \u001b[39m\"\u001b[39m\u001b[39m90\u001b[39m\u001b[39m\"\u001b[39m\n\u001b[1;32m----> <a href='vscode-notebook-cell:/c%3A/Users/Administrador/OneDrive/Exerc%C3%ADcios%20do%20PD/Python/Modulo%202/modulo2/2.1-Vari%C3%A1veis-Exerc%C3%ADcios.ipynb#X15sZmlsZQ%3D%3D?line=1'>2</a>\u001b[0m m_por_seg \u001b[39m=\u001b[39m km_por_hora \u001b[39m/\u001b[39;49m \u001b[39m3.6\u001b[39;49m\n\u001b[0;32m      <a href='vscode-notebook-cell:/c%3A/Users/Administrador/OneDrive/Exerc%C3%ADcios%20do%20PD/Python/Modulo%202/modulo2/2.1-Vari%C3%A1veis-Exerc%C3%ADcios.ipynb#X15sZmlsZQ%3D%3D?line=2'>3</a>\u001b[0m \u001b[39mprint\u001b[39m(\u001b[39m\"\u001b[39m\u001b[39mO valor em metros por segundo é\u001b[39m\u001b[39m\"\u001b[39m)\n\u001b[0;32m      <a href='vscode-notebook-cell:/c%3A/Users/Administrador/OneDrive/Exerc%C3%ADcios%20do%20PD/Python/Modulo%202/modulo2/2.1-Vari%C3%A1veis-Exerc%C3%ADcios.ipynb#X15sZmlsZQ%3D%3D?line=3'>4</a>\u001b[0m \u001b[39mprint\u001b[39m(\u001b[39m\"\u001b[39m\u001b[39mm_por_seg\u001b[39m\u001b[39m\"\u001b[39m)\n",
      "\u001b[1;31mTypeError\u001b[0m: unsupported operand type(s) for /: 'str' and 'float'"
     ]
    }
   ],
   "source": [
    "km_por_hora = \"90\"\n",
    "m_por_seg = km_por_hora / 3.6\n",
    "print(\"O valor em metros por segundo é\")\n",
    "print(\"m_por_seg\")\n"
   ]
  },
  {
   "cell_type": "markdown",
   "metadata": {},
   "source": [
    "Q5.\n",
    "Escreva um script python que:\n",
    "\n",
    "Armazene o seu nome em uma variável\n",
    "Dica: para armazenar textos em variáveis basta colocar a palavra desejada entre aspas, ex: \"Camila\", à direita do operador de atribuição.\n",
    "Imprima o texto \"Meu nome é:\"\n",
    "Imprima a variável com seu nome"
   ]
  },
  {
   "cell_type": "code",
   "execution_count": 7,
   "metadata": {},
   "outputs": [
    {
     "name": "stdout",
     "output_type": "stream",
     "text": [
      "Meu nome é\n",
      "Pedro\n"
     ]
    }
   ],
   "source": [
    "meu_nome = \"Pedro\"\n",
    "print(\"Meu nome é\")\n",
    "print(meu_nome)"
   ]
  }
 ],
 "metadata": {
  "kernelspec": {
   "display_name": "Python 3",
   "language": "python",
   "name": "python3"
  },
  "language_info": {
   "codemirror_mode": {
    "name": "ipython",
    "version": 3
   },
   "file_extension": ".py",
   "mimetype": "text/x-python",
   "name": "python",
   "nbconvert_exporter": "python",
   "pygments_lexer": "ipython3",
   "version": "3.12.3"
  }
 },
 "nbformat": 4,
 "nbformat_minor": 2
}
